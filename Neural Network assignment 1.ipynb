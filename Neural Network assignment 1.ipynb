{
 "cells": [
  {
   "cell_type": "code",
   "execution_count": 8,
   "id": "bbe76a85",
   "metadata": {},
   "outputs": [
    {
     "name": "stdout",
     "output_type": "stream",
     "text": [
      "ntyp\n"
     ]
    }
   ],
   "source": [
    "#1A.Input the string “Python” as a list of characters from console, delete at least 2 characters, reverse the\n",
    "#resultantstring and printit.\n",
    "\n",
    "string= 'python'\n",
    "string= string[0:3]+string[5]\n",
    "print(string[::-1])"
   ]
  },
  {
   "cell_type": "code",
   "execution_count": 14,
   "id": "0f28fe95",
   "metadata": {},
   "outputs": [
    {
     "name": "stdout",
     "output_type": "stream",
     "text": [
      "First Number:3\n",
      "Second Number:2\n",
      "add: 5\n",
      "sub: 1\n",
      "Mul: 6\n",
      "Div: 1.5\n"
     ]
    }
   ],
   "source": [
    "#1B.Take two numbers from user and perform at least 4 arithmetic operations on them.\n",
    "\n",
    "Num1=int(input('First Number:'))\n",
    "Num2=int(input('Second Number:'))\n",
    "print('add:',Num1+Num2)\n",
    "print('sub:',Num1-Num2)\n",
    "print('Mul:',Num1*Num2)\n",
    "print('Div:',Num1/Num2)"
   ]
  },
  {
   "cell_type": "code",
   "execution_count": 16,
   "id": "a94fa6ec",
   "metadata": {},
   "outputs": [
    {
     "name": "stdout",
     "output_type": "stream",
     "text": [
      "I love playing with pythons\n"
     ]
    }
   ],
   "source": [
    "#2.Write a program that accepts a sentence and replace each occurrence of ‘python’ with ‘pythons’.\n",
    "\n",
    "string= 'I love playing with python'\n",
    "print(string.replace('python','pythons'))"
   ]
  },
  {
   "cell_type": "code",
   "execution_count": 1,
   "id": "ed7c710f",
   "metadata": {},
   "outputs": [
    {
     "name": "stdout",
     "output_type": "stream",
     "text": [
      "Score:90.05\n",
      " grade = 'A' \n"
     ]
    }
   ],
   "source": [
    "#3.Use the if statement conditions to write a program to print the letter grade based on an input class score. Use the\n",
    "#grading scheme we are using in this class.\n",
    "\n",
    "s = float(input(\"Score:\"))\n",
    "\n",
    "if s >= 90 and s<100 :\n",
    "   print(\" grade = 'A' \")\n",
    "elif s>=80 and s<90 :\n",
    "   print ( \" grade = 'B' \")\n",
    "elif s>=70 and s <80:\n",
    "  print  (\" grade = 'C' \")\n",
    "elif s>=60 and s<70:\n",
    "   print ( \" grade = 'D' \" )\n",
    "elif s>= 0 and s <60:\n",
    "  print ( \" grade = 'F' \" )\n",
    "else:\n",
    " print (\"invalid\")\n",
    "\n",
    "    \n",
    "\n",
    "    \n"
   ]
  }
 ],
 "metadata": {
  "kernelspec": {
   "display_name": "Python 3 (ipykernel)",
   "language": "python",
   "name": "python3"
  },
  "language_info": {
   "codemirror_mode": {
    "name": "ipython",
    "version": 3
   },
   "file_extension": ".py",
   "mimetype": "text/x-python",
   "name": "python",
   "nbconvert_exporter": "python",
   "pygments_lexer": "ipython3",
   "version": "3.11.4"
  }
 },
 "nbformat": 4,
 "nbformat_minor": 5
}
